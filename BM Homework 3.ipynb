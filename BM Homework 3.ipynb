{
 "cells": [
  {
   "metadata": {
    "ExecuteTime": {
     "end_time": "2024-11-04T21:02:38.753646Z",
     "start_time": "2024-11-04T21:02:38.746433Z"
    }
   },
   "cell_type": "code",
   "source": [
    "pip install biopython\n",
    "\n",
    "from Bio import SeqIO\n",
    "from Bio.Blast import NCBIXML\n",
    "from Bio.Blast.Applications import NcbiblastnCommandline\n",
    "import os\n",
    "\n",
    "# 定义输入文件和输出文件路径\n",
    "human_file = \"human.fa\"\n",
    "mouse_file = \"mouse.fa\"\n",
    "output_file = \"blast_results.txt\"\n",
    "\n",
    "# 设置BLAST搜索参数\n",
    "blast_exe = \"blastn\"  # 'blastn'用于核酸序列比对，如果是蛋白质序列，请改为'blastp'\n",
    "\n",
    "# 确保BLAST数据库已构建\n",
    "if not os.path.exists(\"mouse\"):\n",
    "    os.system(f\"makeblastdb -in {mouse_file} -dbtype nucl -out mouse\")\n",
    "\n",
    "# 打开输出文件\n",
    "with open(output_file, \"w\") as out_handle:\n",
    "    for record in SeqIO.parse(human_file, \"fasta\"):\n",
    "        # 保存人类序列ID\n",
    "        human_id = record.id\n",
    "        \n",
    "        # 写入临时文件以便使用BLAST\n",
    "        with open(\"temp_human.fasta\", \"w\") as temp_query:\n",
    "            SeqIO.write(record, temp_query, \"fasta\")\n",
    "\n",
    "        # 设置BLAST搜索命令\n",
    "        blastn_cline = NcbiblastnCommandline(\n",
    "            cmd=blast_exe,\n",
    "            query=\"temp_human.fasta\",\n",
    "            db=\"mouse\",\n",
    "            evalue=0.001,\n",
    "            outfmt=5,\n",
    "            out=\"temp_blast.xml\"\n",
    "        )\n",
    "\n",
    "        # 运行BLAST命令\n",
    "        stdout, stderr = blastn_cline()\n",
    "        \n",
    "        # 解析BLAST XML结果\n",
    "        with open(\"temp_blast.xml\") as result_handle:\n",
    "            blast_record = NCBIXML.read(result_handle)\n",
    "            if blast_record.alignments:\n",
    "                # 获取最佳匹配结果\n",
    "                best_alignment = blast_record.alignments[0]\n",
    "                hsp = best_alignment.hsps[0]\n",
    "                \n",
    "                # 写入输出文件\n",
    "                out_handle.write(f\"Human ID: {human_id}\\n\")\n",
    "                out_handle.write(f\"Mouse ID: {best_alignment.hit_id}\\n\")\n",
    "                out_handle.write(\"Alignment:\\n\")\n",
    "                out_handle.write(f\"{hsp.query}\\n\")\n",
    "                out_handle.write(f\"{hsp.match}\\n\")\n",
    "                out_handle.write(f\"{hsp.sbjct}\\n\")\n",
    "                out_handle.write(f\"E-value: {hsp.expect}\\n\")\n",
    "                out_handle.write(f\"Bit Score: {hsp.bits}\\n\")\n",
    "                out_handle.write(\"\\n\" + \"=\"*50 + \"\\n\\n\")\n",
    "\n",
    "# 清理临时文件\n",
    "os.remove(\"temp_human.fasta\")\n",
    "os.remove(\"temp_blast.xml\")\n"
   ],
   "id": "31f30db9cdefdddb",
   "outputs": [
    {
     "ename": "SyntaxError",
     "evalue": "invalid syntax (2210443361.py, line 1)",
     "output_type": "error",
     "traceback": [
      "\u001B[1;36m  Cell \u001B[1;32mIn[7], line 1\u001B[1;36m\u001B[0m\n\u001B[1;33m    pip install biopython\u001B[0m\n\u001B[1;37m        ^\u001B[0m\n\u001B[1;31mSyntaxError\u001B[0m\u001B[1;31m:\u001B[0m invalid syntax\n"
     ]
    }
   ],
   "execution_count": 7
  }
 ],
 "metadata": {
  "kernelspec": {
   "display_name": "Python 3",
   "language": "python",
   "name": "python3"
  },
  "language_info": {
   "codemirror_mode": {
    "name": "ipython",
    "version": 2
   },
   "file_extension": ".py",
   "mimetype": "text/x-python",
   "name": "python",
   "nbconvert_exporter": "python",
   "pygments_lexer": "ipython2",
   "version": "2.7.6"
  }
 },
 "nbformat": 4,
 "nbformat_minor": 5
}
