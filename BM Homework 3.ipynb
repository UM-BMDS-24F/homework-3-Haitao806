{
 "cells": [
  {
   "metadata": {
    "ExecuteTime": {
     "end_time": "2024-11-04T22:13:14.926697Z",
     "start_time": "2024-11-04T22:13:08.946946Z"
    }
   },
   "cell_type": "code",
   "source": [
    "!pip install biopython\n",
    "\n",
    "from Bio import SeqIO\n",
    "from Bio.Blast import NCBIXML\n",
    "from Bio.Blast.Applications import NcbiblastnCommandline\n",
    "import os\n",
    "\n",
    "# 定义输入文件和输出文件路径\n",
    "human_file = \"human.fa\"\n",
    "mouse_file = \"mouse.fa\"\n",
    "output_file = \"blast_results.txt\"\n",
    "\n",
    "# 设置BLAST搜索参数\n",
    "blast_exe = \"blastn\"  # 'blastn'用于核酸序列比对，如果是蛋白质序列，请改为'blastp'\n",
    "\n",
    "# 确保BLAST数据库已构建\n",
    "if not os.path.exists(\"mouse\"):\n",
    "    os.system(f\"makeblastdb -in {mouse_file} -dbtype nucl -out mouse\")\n",
    "\n",
    "# 打开输出文件\n",
    "with open(output_file, \"w\") as out_handle:\n",
    "    for record in SeqIO.parse(human_file, \"fasta\"):\n",
    "        # 保存人类序列ID\n",
    "        human_id = record.id\n",
    "        \n",
    "        # 写入临时文件以便使用BLAST\n",
    "        with open(\"temp_human.fasta\", \"w\") as temp_query:\n",
    "            SeqIO.write(record, temp_query, \"fasta\")\n",
    "\n",
    "        # 设置BLAST搜索命令\n",
    "        blastn_cline = NcbiblastnCommandline(\n",
    "            cmd=blast_exe,\n",
    "            query=\"temp_human.fasta\",\n",
    "            db=\"mouse\",\n",
    "            evalue=0.001,\n",
    "            outfmt=5,\n",
    "            out=\"temp_blast.xml\"\n",
    "        )\n",
    "\n",
    "        # 运行BLAST命令\n",
    "        stdout, stderr = blastn_cline()\n",
    "        \n",
    "        # 解析BLAST XML结果\n",
    "        with open(\"temp_blast.xml\") as result_handle:\n",
    "            blast_record = NCBIXML.read(result_handle)\n",
    "            if blast_record.alignments:\n",
    "                # 获取最佳匹配结果\n",
    "                best_alignment = blast_record.alignments[0]\n",
    "                hsp = best_alignment.hsps[0]\n",
    "                \n",
    "                # 写入输出文件\n",
    "                out_handle.write(f\"Human ID: {human_id}\\n\")\n",
    "                out_handle.write(f\"Mouse ID: {best_alignment.hit_id}\\n\")\n",
    "                out_handle.write(\"Alignment:\\n\")\n",
    "                out_handle.write(f\"{hsp.query}\\n\")\n",
    "                out_handle.write(f\"{hsp.match}\\n\")\n",
    "                out_handle.write(f\"{hsp.sbjct}\\n\")\n",
    "                out_handle.write(f\"E-value: {hsp.expect}\\n\")\n",
    "                out_handle.write(f\"Bit Score: {hsp.bits}\\n\")\n",
    "                out_handle.write(\"\\n\" + \"=\"*50 + \"\\n\\n\")\n",
    "\n",
    "# 清理临时文件\n",
    "os.remove(\"temp_human.fasta\")\n",
    "os.remove(\"temp_blast.xml\")\n",
    "\n",
    "\n",
    "#Furthermore question\n",
    "#1.blastn is chosen for nucleotide sequence alignment, as human.fa and mouse.fa likely contain nucleotide sequences.\n",
    "#2. The standard nucleotide scoring matrix is used for blastn; if using blastp for protein alignment, BLOSUM62 is typically selected.\n",
    "#3.The E-value threshold is set to 0.001 to ensure that only highly significant matches are reported."
   ],
   "id": "31f30db9cdefdddb",
   "outputs": [
    {
     "name": "stdout",
     "output_type": "stream",
     "text": [
      "Requirement already satisfied: biopython in c:\\users\\11039\\anaconda3\\lib\\site-packages (1.84)\n",
      "Requirement already satisfied: numpy in c:\\users\\11039\\anaconda3\\lib\\site-packages (from biopython) (1.24.3)\n"
     ]
    },
    {
     "ename": "ApplicationError",
     "evalue": "Non-zero return code 1 from 'blastn -out temp_blast.xml -outfmt 5 -query temp_human.fasta -db mouse -evalue 0.001', message \"'blastn' is not recognized as an internal or external command,\"",
     "output_type": "error",
     "traceback": [
      "\u001B[1;31m---------------------------------------------------------------------------\u001B[0m",
      "\u001B[1;31mApplicationError\u001B[0m                          Traceback (most recent call last)",
      "Cell \u001B[1;32mIn[11], line 41\u001B[0m\n\u001B[0;32m     31\u001B[0m blastn_cline \u001B[38;5;241m=\u001B[39m NcbiblastnCommandline(\n\u001B[0;32m     32\u001B[0m     cmd\u001B[38;5;241m=\u001B[39mblast_exe,\n\u001B[0;32m     33\u001B[0m     query\u001B[38;5;241m=\u001B[39m\u001B[38;5;124m\"\u001B[39m\u001B[38;5;124mtemp_human.fasta\u001B[39m\u001B[38;5;124m\"\u001B[39m,\n\u001B[1;32m   (...)\u001B[0m\n\u001B[0;32m     37\u001B[0m     out\u001B[38;5;241m=\u001B[39m\u001B[38;5;124m\"\u001B[39m\u001B[38;5;124mtemp_blast.xml\u001B[39m\u001B[38;5;124m\"\u001B[39m\n\u001B[0;32m     38\u001B[0m )\n\u001B[0;32m     40\u001B[0m \u001B[38;5;66;03m# 运行BLAST命令\u001B[39;00m\n\u001B[1;32m---> 41\u001B[0m stdout, stderr \u001B[38;5;241m=\u001B[39m blastn_cline()\n\u001B[0;32m     43\u001B[0m \u001B[38;5;66;03m# 解析BLAST XML结果\u001B[39;00m\n\u001B[0;32m     44\u001B[0m \u001B[38;5;28;01mwith\u001B[39;00m \u001B[38;5;28mopen\u001B[39m(\u001B[38;5;124m\"\u001B[39m\u001B[38;5;124mtemp_blast.xml\u001B[39m\u001B[38;5;124m\"\u001B[39m) \u001B[38;5;28;01mas\u001B[39;00m result_handle:\n",
      "File \u001B[1;32m~\\anaconda3\\Lib\\site-packages\\Bio\\Application\\__init__.py:591\u001B[0m, in \u001B[0;36mAbstractCommandline.__call__\u001B[1;34m(self, stdin, stdout, stderr, cwd, env)\u001B[0m\n\u001B[0;32m    588\u001B[0m     stderr_arg\u001B[38;5;241m.\u001B[39mclose()\n\u001B[0;32m    590\u001B[0m \u001B[38;5;28;01mif\u001B[39;00m return_code:\n\u001B[1;32m--> 591\u001B[0m     \u001B[38;5;28;01mraise\u001B[39;00m ApplicationError(return_code, \u001B[38;5;28mstr\u001B[39m(\u001B[38;5;28mself\u001B[39m), stdout_str, stderr_str)\n\u001B[0;32m    592\u001B[0m \u001B[38;5;28;01mreturn\u001B[39;00m stdout_str, stderr_str\n",
      "\u001B[1;31mApplicationError\u001B[0m: Non-zero return code 1 from 'blastn -out temp_blast.xml -outfmt 5 -query temp_human.fasta -db mouse -evalue 0.001', message \"'blastn' is not recognized as an internal or external command,\""
     ]
    }
   ],
   "execution_count": 11
  },
  {
   "metadata": {},
   "cell_type": "code",
   "source": "",
   "id": "38d0410014de82da",
   "outputs": [],
   "execution_count": null
  }
 ],
 "metadata": {
  "kernelspec": {
   "display_name": "Python 3",
   "language": "python",
   "name": "python3"
  },
  "language_info": {
   "codemirror_mode": {
    "name": "ipython",
    "version": 2
   },
   "file_extension": ".py",
   "mimetype": "text/x-python",
   "name": "python",
   "nbconvert_exporter": "python",
   "pygments_lexer": "ipython2",
   "version": "2.7.6"
  }
 },
 "nbformat": 4,
 "nbformat_minor": 5
}
